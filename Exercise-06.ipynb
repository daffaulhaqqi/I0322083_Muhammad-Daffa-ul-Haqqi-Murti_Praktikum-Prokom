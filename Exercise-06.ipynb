{
 "cells": [
  {
   "attachments": {},
   "cell_type": "markdown",
   "metadata": {},
   "source": [
    "1. Tulis program dengan fungsi untuk menentukan angka yang paling kecil dari tiga angka yang diberikan!\n",
    "     ###### Note: Angka ditentukan sendiri oleh praktikan"
   ]
  },
  {
   "cell_type": "code",
   "execution_count": 4,
   "metadata": {},
   "outputs": [
    {
     "name": "stdout",
     "output_type": "stream",
     "text": [
      "2 9 11\n"
     ]
    }
   ],
   "source": [
    "# Kerjakan Nomor 1 di bawah ini\n",
    "def urut(a,b,c):\n",
    "    if a < b < c:\n",
    "        print(a, b, c)\n",
    "    elif a < c < b:\n",
    "        print(a, c, b)\n",
    "    elif b < a < c:\n",
    "        print (b, a, c)\n",
    "    elif b < c < a:\n",
    "        print (b, c, a)\n",
    "    elif c < a < b:\n",
    "        print (c, a, b)\n",
    "    elif c < b < a:\n",
    "        print (c, b, a)\n",
    "\n",
    "urut(2,9,11)\n"
   ]
  },
  {
   "attachments": {},
   "cell_type": "markdown",
   "metadata": {},
   "source": [
    "2. Tulis fungsi Python yang mengambil list awal dan menampilkan list baru dengan angka unik (tidak ada angka yang sama) dari list yang pertama."
   ]
  },
  {
   "cell_type": "code",
   "execution_count": null,
   "metadata": {},
   "outputs": [],
   "source": [
    "list_awal = [20,20,20,20,20,21,21,22,25,26,26,27,29,29,29,30]"
   ]
  },
  {
   "cell_type": "code",
   "execution_count": 10,
   "metadata": {},
   "outputs": [
    {
     "name": "stdout",
     "output_type": "stream",
     "text": [
      "[20, 21, 22, 25, 26, 27, 29, 30]\n"
     ]
    }
   ],
   "source": [
    "# Kerjakan Nomor 2 di bawah ini\n",
    "\n",
    "list_awal = [20,20,20,20,20,21,21,22,25,26,26,27,29,29,29,30]\n",
    "\n",
    "def list_unik (list_awal):\n",
    "    list_baru = []\n",
    "    for i in list_awal:\n",
    "        if i not in list_baru:\n",
    "            list_baru.append(i)\n",
    "    return list_baru\n",
    "\n",
    "list_baru = list_unik(list_awal)\n",
    "print(list_baru)"
   ]
  },
  {
   "attachments": {},
   "cell_type": "markdown",
   "metadata": {},
   "source": [
    "3. Cari dan tampilkan bilangan genap yang ada pada list dibawah ini menggunakan fungsi built-in (wajib memakai fungsi lambda) dan tampilkan dalam format menurun (menggunakan perulangan)! "
   ]
  },
  {
   "cell_type": "code",
   "execution_count": null,
   "metadata": {},
   "outputs": [],
   "source": [
    "list_angka = [3,7,4,1,13,6,9,8,15,18,21]"
   ]
  },
  {
   "cell_type": "code",
   "execution_count": 2,
   "metadata": {},
   "outputs": [
    {
     "name": "stdout",
     "output_type": "stream",
     "text": [
      "[4, 6, 8, 18]\n"
     ]
    }
   ],
   "source": [
    "#Kerjakan nomor 3 di kolom ini\n",
    "list_angka = [3,7,4,1,13,6,9,8,15,18,21]\n",
    "genap = []\n",
    "\n",
    "for angka in list_angka:\n",
    "    if(lambda a: a%2 == 0)(angka):\n",
    "        genap.append(angka)\n",
    "print(genap)"
   ]
  }
 ],
 "metadata": {
  "kernelspec": {
   "display_name": "Python 3",
   "language": "python",
   "name": "python3"
  },
  "language_info": {
   "codemirror_mode": {
    "name": "ipython",
    "version": 3
   },
   "file_extension": ".py",
   "mimetype": "text/x-python",
   "name": "python",
   "nbconvert_exporter": "python",
   "pygments_lexer": "ipython3",
   "version": "3.11.2"
  },
  "orig_nbformat": 4,
  "vscode": {
   "interpreter": {
    "hash": "5addf786bcd861d1ce5006f23111f8cbb206731e5b61b0a5632ba9e0252558a8"
   }
  }
 },
 "nbformat": 4,
 "nbformat_minor": 2
}
