{
 "cells": [
  {
   "attachments": {},
   "cell_type": "markdown",
   "metadata": {},
   "source": [
    "1. Buatlah program untuk menghitung pangkat 2 dari angka 1 hingga 50!"
   ]
  },
  {
   "cell_type": "code",
   "execution_count": 4,
   "metadata": {},
   "outputs": [
    {
     "name": "stdout",
     "output_type": "stream",
     "text": [
      "1 ^2 =  1\n",
      "2 ^2 =  4\n",
      "3 ^2 =  9\n",
      "4 ^2 =  16\n",
      "5 ^2 =  25\n",
      "6 ^2 =  36\n",
      "7 ^2 =  49\n",
      "8 ^2 =  64\n",
      "9 ^2 =  81\n",
      "10 ^2 =  100\n",
      "11 ^2 =  121\n",
      "12 ^2 =  144\n",
      "13 ^2 =  169\n",
      "14 ^2 =  196\n",
      "15 ^2 =  225\n",
      "16 ^2 =  256\n",
      "17 ^2 =  289\n",
      "18 ^2 =  324\n",
      "19 ^2 =  361\n",
      "20 ^2 =  400\n",
      "21 ^2 =  441\n",
      "22 ^2 =  484\n",
      "23 ^2 =  529\n",
      "24 ^2 =  576\n",
      "25 ^2 =  625\n",
      "26 ^2 =  676\n",
      "27 ^2 =  729\n",
      "28 ^2 =  784\n",
      "29 ^2 =  841\n",
      "30 ^2 =  900\n",
      "31 ^2 =  961\n",
      "32 ^2 =  1024\n",
      "33 ^2 =  1089\n",
      "34 ^2 =  1156\n",
      "35 ^2 =  1225\n",
      "36 ^2 =  1296\n",
      "37 ^2 =  1369\n",
      "38 ^2 =  1444\n",
      "39 ^2 =  1521\n",
      "40 ^2 =  1600\n",
      "41 ^2 =  1681\n",
      "42 ^2 =  1764\n",
      "43 ^2 =  1849\n",
      "44 ^2 =  1936\n",
      "45 ^2 =  2025\n",
      "46 ^2 =  2116\n",
      "47 ^2 =  2209\n",
      "48 ^2 =  2304\n",
      "49 ^2 =  2401\n",
      "50 ^2 =  2500\n"
     ]
    }
   ],
   "source": [
    "# Kerjakan nomor 1 di sini\n",
    "for angka in range (1, 51):\n",
    "    print (angka, \"^2 = \", angka**2)"
   ]
  },
  {
   "attachments": {},
   "cell_type": "markdown",
   "metadata": {},
   "source": [
    "2. Buatlah sebuah list yang berisi daftar nama mahasiswa angkatan kalian minimal sejumlah 10 nama. Kemudian buat program pencarian menggunakan pengulangan, di mana apabila nama yang user inputkan sudah sesuai dengan isi list maka program akan berhenti dan menampilkan output \"Pencarian anda sudah berakhir\""
   ]
  },
  {
   "attachments": {},
   "cell_type": "markdown",
   "metadata": {},
   "source": [
    "catatan: perhatikan user dapat menginputkan menggunakan baik huruf kapital maupun tidak"
   ]
  },
  {
   "cell_type": "code",
   "execution_count": 23,
   "metadata": {},
   "outputs": [
    {
     "name": "stdout",
     "output_type": "stream",
     "text": [
      "ilham\n",
      "Pencarian anda sudah berakhir\n"
     ]
    }
   ],
   "source": [
    "# Kerjakan nomor 2 di sini\n",
    "\n",
    "mahasiswa = [\"daffa\", \"ilham\", \"rafif\", \"ryan\", \"yusuf\", \"fahriza\", \"raisa\", \"pradipta\", \"abid\", \"naufal\"]\n",
    "nama = input(\"Masukkan nama yang ingin dicari: \")\n",
    "nama = nama.lower()\n",
    "for i in mahasiswa:\n",
    "    if nama == i:\n",
    "        print (i)\n",
    "        print(\"Pencarian anda sudah berakhir\")\n",
    "        break\n",
    "    "
   ]
  },
  {
   "attachments": {},
   "cell_type": "markdown",
   "metadata": {},
   "source": [
    "3. Disajikan list sebagai berikut "
   ]
  },
  {
   "cell_type": "code",
   "execution_count": null,
   "metadata": {},
   "outputs": [],
   "source": [
    "bulan = ['januari', 'februari', 'maret', 'april','mei','juni','juli','agustus','september','oktober','november','desember']\n",
    "kota = ['jakarta' , 'kuala lumpur', 'bangkok', 'seoul', 'canada','london','dubai','barcelona']"
   ]
  },
  {
   "attachments": {},
   "cell_type": "markdown",
   "metadata": {},
   "source": [
    "Robert adalah seorang penyanyi terkenal. Dia merencanakan konser world tour di tahun 2024 mendatang di berbagai negara. Dengan catatan pada bulan April dan Mei, Robert kembali ke indonesia untuk istirahat sejenak kemudian melanjutkan lagi konser. Berdasarkan kasus tersebut buatlah program pengulangannya!"
   ]
  },
  {
   "cell_type": "code",
   "execution_count": 37,
   "metadata": {},
   "outputs": [
    {
     "name": "stdout",
     "output_type": "stream",
     "text": [
      "Robert akan mengadakan konser di jakarta pada bulan bulan januari\n",
      "Robert akan mengadakan konser di kuala lumpur pada bulan bulan februari\n",
      "Robert akan mengadakan konser di bangkok pada bulan bulan maret\n",
      "Robert di bulan april akan beristirahat\n",
      "Robert di bulan mei akan beristirahat\n",
      "Robert akan mengadakan konser di seoul pada bulan bulan juni\n",
      "Robert akan mengadakan konser di canada pada bulan bulan juli\n",
      "Robert akan mengadakan konser di london pada bulan bulan agustus\n",
      "Robert akan mengadakan konser di dubai pada bulan bulan september\n",
      "Robert akan mengadakan konser di barcelona pada bulan bulan oktober\n"
     ]
    }
   ],
   "source": [
    "# kerjakan nomor 3 di sini\n",
    "bulan = ['januari', 'februari', 'maret', 'april','mei','juni','juli','agustus','september','oktober','november','desember']\n",
    "kota = ['jakarta' , 'kuala lumpur', 'bangkok', 'seoul', 'canada','london','dubai','barcelona']\n",
    "\n",
    "x = 0\n",
    "for i in bulan:\n",
    "    if i in ['april', 'mei']:\n",
    "        print(f\"Robert di bulan {i} akan beristirahat\")\n",
    "        continue\n",
    "    print(\"Robert akan mengadakan konser di\", kota[x], f\"pada bulan bulan {i}\")\n",
    "    x = x+1\n",
    "    if x== 8:\n",
    "        break"
   ]
  }
 ],
 "metadata": {
  "kernelspec": {
   "display_name": "Python 3",
   "language": "python",
   "name": "python3"
  },
  "language_info": {
   "codemirror_mode": {
    "name": "ipython",
    "version": 3
   },
   "file_extension": ".py",
   "mimetype": "text/x-python",
   "name": "python",
   "nbconvert_exporter": "python",
   "pygments_lexer": "ipython3",
   "version": "3.11.2"
  },
  "orig_nbformat": 4
 },
 "nbformat": 4,
 "nbformat_minor": 2
}
