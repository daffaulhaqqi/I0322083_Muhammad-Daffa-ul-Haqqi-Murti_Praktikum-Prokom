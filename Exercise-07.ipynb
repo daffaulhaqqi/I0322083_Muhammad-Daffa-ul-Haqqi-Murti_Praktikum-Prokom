{
 "cells": [
  {
   "cell_type": "code",
   "execution_count": 8,
   "metadata": {},
   "outputs": [
    {
     "data": {
      "text/plain": [
       "[[2, 4, 6], [8, 0, 2], [4, 6, 8]]"
      ]
     },
     "execution_count": 8,
     "metadata": {},
     "output_type": "execute_result"
    }
   ],
   "source": [
    "#Buatlah sebuah fungsi untuk membuat matrix berdasarkan input dari user\n",
    "\n",
    "def create_matrix(baris,kolom):\n",
    "    matrix = []\n",
    "    for i in range(baris):\n",
    "        row = []\n",
    "        for j in range(kolom):\n",
    "            elemen = int(input(f'Masukkan elemen baris {i+1} kolom {j+1}: '))\n",
    "            row.append(elemen)\n",
    "        matrix.append(row)\n",
    "\n",
    "    #Tulis kode kamu disini\n",
    "\n",
    "\n",
    "    return matrix\n",
    "\n",
    "\n",
    "baris = int(input('Masukkan Jumlah Baris:\\t'))\n",
    "kolom = int(input('Masukkan Jumlah Kolom:\\t'))\n",
    "\n",
    "create_matrix(baris,kolom)"
   ]
  },
  {
   "cell_type": "code",
   "execution_count": 27,
   "metadata": {},
   "outputs": [
    {
     "name": "stdout",
     "output_type": "stream",
     "text": [
      "[0.0]\n"
     ]
    },
    {
     "data": {
      "text/plain": [
       "([0.0], [[2, 2], [2, 2]], 0.0)"
      ]
     },
     "execution_count": 27,
     "metadata": {},
     "output_type": "execute_result"
    }
   ],
   "source": [
    "#Buatlah sebuah fungsi untuk mencari determinan matrix berdasarkan input matrix dari user\n",
    "import numpy as np\n",
    "def determinan():\n",
    "    det = []\n",
    "    matrix = []\n",
    "    for i in range(baris):\n",
    "        row = []\n",
    "        for j in range(kolom):\n",
    "            elemen = int(input(f'Masukkan elemen baris {i+1} kolom {j+1}: '))\n",
    "            row.append(elemen)\n",
    "        matrix.append(row)\n",
    "    #Tulis kode kamu disini\n",
    "    dets = np.linalg.det(matrix)\n",
    "    det.append(dets)\n",
    "    print(det)\n",
    "\n",
    "\n",
    "    return det, matrix, dets\n",
    "\n",
    "determinan()"
   ]
  },
  {
   "cell_type": "code",
   "execution_count": 23,
   "metadata": {},
   "outputs": [
    {
     "name": "stdout",
     "output_type": "stream",
     "text": [
      "[[1, 3], [5, 7]]\n",
      "[[2, 4], [6, 8]]\n",
      "20 28 \n",
      "52 76 \n"
     ]
    },
    {
     "data": {
      "text/plain": [
       "[[20, 28], [52, 76]]"
      ]
     },
     "execution_count": 23,
     "metadata": {},
     "output_type": "execute_result"
    }
   ],
   "source": [
    "#Buatlah fungsi untuk mengakalikan dua buah matrix berdasarkan input user menggunakan nested loop\n",
    "\n",
    "def multiply_matrix(matrix1, matrix2):\n",
    "    result=[]\n",
    "    for x in range(0, len(matrix1)):\n",
    "        row = []\n",
    "        for y in range(0, len(matrix1[0])):\n",
    "            total = 0\n",
    "            for z in range(0, len(matrix1)):\n",
    "                total = total + (matrix1[x][z] * matrix2[z][y])\n",
    "            row.append(total)\n",
    "        result.append(row)\n",
    "\n",
    "    for x in range(0, len(result)):\n",
    "        for y in range(0, len(result[0])):\n",
    "            print (result[x][y], end=' ')\n",
    "        print ()\n",
    "\n",
    "    return result\n",
    "\n",
    "baris = int(input('Masukkan jumlah Baris: '))\n",
    "kolom = int(input('Masukkan jumlah Kolom: '))\n",
    "matrix1 = []\n",
    "for i in range(baris):\n",
    "        row = []\n",
    "        for j in range(kolom):\n",
    "            elemen = int(input(f'Masukkan elemen baris {i+1} kolom {j+1}: '))\n",
    "            row.append(elemen)\n",
    "        matrix1.append(row)\n",
    "print(matrix1)\n",
    "matrix2 = []\n",
    "for i in range(baris):\n",
    "        row = []\n",
    "        for j in range(kolom):\n",
    "            elemen = int(input(f'Masukkan elemen baris {i+1} kolom {j+1}: '))\n",
    "            row.append(elemen)\n",
    "        matrix2.append(row)\n",
    "print(matrix2)\n",
    "multiply_matrix(matrix1, matrix2)\n"
   ]
  }
 ],
 "metadata": {
  "language_info": {
   "name": "python"
  },
  "orig_nbformat": 4
 },
 "nbformat": 4,
 "nbformat_minor": 2
}
