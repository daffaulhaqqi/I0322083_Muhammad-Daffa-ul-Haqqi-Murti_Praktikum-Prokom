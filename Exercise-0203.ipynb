{
 "cells": [
  {
   "cell_type": "code",
   "execution_count": 1,
   "metadata": {},
   "outputs": [
    {
     "name": "stdout",
     "output_type": "stream",
     "text": [
      "Muhammad Daffa'ul Haqqi Murti\n",
      "I0322083\n",
      "C\n"
     ]
    }
   ],
   "source": [
    "print(input(\"Nama: \"))\n",
    "print(input(\"NIM: \"))\n",
    "print(input(\"Kelas: \"))"
   ]
  },
  {
   "attachments": {},
   "cell_type": "markdown",
   "metadata": {},
   "source": [
    "## 1."
   ]
  },
  {
   "attachments": {},
   "cell_type": "markdown",
   "metadata": {},
   "source": [
    "buatlah program sederhana untuk:\n",
    "* **A** mencari massa jika diketahui nilai energi potensial, percepatan gravitasi, dan ketinggian benda! beserta rumus nya!\n",
    "* **B** mencari gaya apung jika diketahui massa jenis, tinggi, panjang, dan lebar benda serta percepatan gravitasi dan contohnya! beserta rumus nya!\n",
    "* **C** Tulis program Python untuk menghitung luas dari segi lima sama sisi!\n",
    "\n",
    "> *note* : rumus, contoh, dan nilai dari tiap variabel ditentukan oleh kalian sendiri dan gunakan satuan baku (SI) untuk menghitung nilai dari tiap variabel"
   ]
  },
  {
   "cell_type": "code",
   "execution_count": 3,
   "metadata": {},
   "outputs": [
    {
     "name": "stdout",
     "output_type": "stream",
     "text": [
      "Massa dari benda yang memiliki energi potensial 100 J dengan ketinggian 25 m adalah... (g = 9.8) 0.4081632653061224 kg\n"
     ]
    }
   ],
   "source": [
    "#A: Mencari massa jika diketahui nilai energi potensial, percepatan gravitasi, dan ketinggian benda.\n",
    "\n",
    "ep = 100    #energi potensial (J)\n",
    "g = 9.8     #percepatan gravitasi (m/s^2)\n",
    "h = 25      #ketinggian benda (m)\n",
    "\n",
    "massa = ep/(g*h)\n",
    "print(f\"Massa dari benda yang memiliki energi potensial {ep} J dengan ketinggian {h} m adalah... (g = {g}) {massa} kg\")"
   ]
  },
  {
   "cell_type": "code",
   "execution_count": 5,
   "metadata": {},
   "outputs": [
    {
     "name": "stdout",
     "output_type": "stream",
     "text": [
      "Gaya apung benda berbentuk balok dengan massa jenis 1000 kg/m^3, tinggi 6 m, panjang 8 m, dan lebar 4 m adalah = 15052.800000000001 N\n"
     ]
    }
   ],
   "source": [
    "#B: Mencari gaya apung jika diketahui massa jenis, tinggi, panjang, dan lebar serta percepatan gravitasi\n",
    "\n",
    "massajenis = 1000    #massa jenis\n",
    "t = 6   #tinggi balok\n",
    "p = 8   #panjang balok\n",
    "l = 4   #lebar balok\n",
    "\n",
    "v = p*l*t #rumus volume balok\n",
    "Fa = p*v*g  #rumus gaya apung\n",
    "\n",
    "print(f\"Gaya apung benda berbentuk balok dengan massa jenis 1000 kg/m^3, tinggi 6 m, panjang 8 m, dan lebar 4 m adalah = {Fa} N\")"
   ]
  },
  {
   "cell_type": "code",
   "execution_count": 6,
   "metadata": {},
   "outputs": [
    {
     "name": "stdout",
     "output_type": "stream",
     "text": [
      "Luas segi lima sama sisi dengan panjang sisi 5 cm adalah 43.01193501472417 cm^2\n"
     ]
    }
   ],
   "source": [
    "#C: Menghitung luas segi lima sama sisi\n",
    "\n",
    "s = 5 #panjang sisi\n",
    "l = 1/4*((5*(5+2*(5**0.5)))**0.5)*s**2  #rumus luas segi lima sama sisi\n",
    "\n",
    "print(f\"Luas segi lima sama sisi dengan panjang sisi 5 cm adalah {l} cm^2\")\n"
   ]
  },
  {
   "attachments": {},
   "cell_type": "markdown",
   "metadata": {},
   "source": [
    "## 2."
   ]
  },
  {
   "attachments": {},
   "cell_type": "markdown",
   "metadata": {},
   "source": [
    "Taman bermain ANCOL memiliki berbagai wahana, salah satunya adalah bianglala. Harga tiket yang dijual berbeda tergantung dengan kategori nya. Harga tiket bagi orang dewasa atau yang berumur lebih dari 17 tahun adalah Rp 110.000 , harga tiket untuk anak-anak usia 6-16 tahun adalah Rp. 75.000 , sedangkan untuk usia dibawahnya tidak dikenakan biaya. Pada wahana bianglala sedang ada \"Promo RAMADHAN\" sebesar 20% bagi pembelian tiket lebih dari 2 pcs.\n",
    "\n",
    "Keluarga Anya Forger ingin menaiki wahana bianglala tersebut, Anya (usia 18 tahun) pergi bersama ayah dan ibunya beserta dua adiknya, Harry (usia 8 tahun) dan Taylor (usia 4 tahun). \n",
    "\n",
    "> Buatlah program sederhana untuk menghitung harga total dari pembelian tiket  oleh keluarga Anya dan harga tiket setelah mendapatkan diskon"
   ]
  },
  {
   "cell_type": "code",
   "execution_count": 7,
   "metadata": {},
   "outputs": [
    {
     "name": "stdout",
     "output_type": "stream",
     "text": [
      "Harga tiket keluarga Anya setelah mendapatkan diskon adalah Rp 324000.0 \n"
     ]
    }
   ],
   "source": [
    "#2. Program sederhana untuk menghitung harga total pembelian tiket oleh keluarga Anya dan harga tiket setelah diskon.\n",
    "\n",
    "harga_dewasa = 110000 #harga tiket orang dewasa\n",
    "harga_anak = 75000    #harga tiket anak-anak\n",
    "\n",
    "total = 3*harga_dewasa+harga_anak #total harga tiket sebelum diskon\n",
    "total_diskon = total -(20/100*total)    #total harga tiket setelah diskon\n",
    "\n",
    "print(f\"Harga tiket keluarga Anya setelah mendapatkan diskon adalah Rp {total_diskon} \")"
   ]
  },
  {
   "attachments": {},
   "cell_type": "markdown",
   "metadata": {},
   "source": [
    "## 3. "
   ]
  },
  {
   "attachments": {},
   "cell_type": "markdown",
   "metadata": {},
   "source": [
    "diberikan list aslab sebagai berikut:\n",
    "```python\n",
    "list_aslab = [\n",
    "    {\"nama\": \"Berlian Safri Prakoso\", \"nim\": \"I0320017\", \"kontak\": \"0858XXXXXXXX\"},\n",
    "    {\"nama\": \"Halidya Siti Hanifah\", \"nim\": \"I0320044\", \"kontak\": \"0878XXXXXXXX\"},\n",
    "    {\"nama\": \"Nurki Putra Mahardika\", \"nim\": \"I0320076\", \"kontak\": \"0877XXXXXXXX\"},\n",
    "    {\"nama\": \"Aji Manarul Aziz\", \"nim\": \"I0320119\", \"kontak\": \"0812XXXXXXXX\"},\n",
    "    {\"nama\": \"Alica Ayu Fitriani\", \"nim\": \"I0320121\", \"kontak\": \"0896XXXXXXXX\"},\n",
    "    {\"nama\": \"Dendy Halim Kusuma\", \"nim\": \"I0320125\", \"kontak\": \"0822XXXXXXXX\"}\n",
    "]\n",
    "```\n",
    "* **A** Tuliskan kode untuk mengakses informasi tentang \"nama\" dari semua aslab mulai dari index 1 sampai 5\n",
    "* **B** Tambahkan informasi berikut pada data aslab dan tampilkan hasilnya:\n",
    "```python\n",
    "    surel = [\"berlian@student.uns.ac.id\",\n",
    "          \"halidya@student.uns.ac.id\",\n",
    "          \"nurki@student.uns.ac.id\",\n",
    "          \"manarul@student.uns.ac.id\",\n",
    "          \"alica@student.uns.ac.id\",\n",
    "          \"dendy@student.uns.ac.id\"]\n",
    "```\n",
    "* **C** Hapus nilai pada kunci \"kontak\" pada list aslab dan tampilkan hasilnya\n",
    "> *note: kalian hanya boleh menggunakan key-value pair yang disebutkan di dalam teks, tanpa menggunakan informasi tambahan yang diambil pada list yang ada*"
   ]
  },
  {
   "cell_type": "code",
   "execution_count": 50,
   "metadata": {},
   "outputs": [
    {
     "name": "stdout",
     "output_type": "stream",
     "text": [
      "[{'nama': 'Halidya Siti Hanifah', 'nim': 'I0320044', 'kontak': '0878XXXXXXXX'}, {'nama': 'Nurki Putra Mahardika', 'nim': 'I0320076', 'kontak': '0877XXXXXXXX'}, {'nama': 'Aji Manarul Aziz', 'nim': 'I0320119', 'kontak': '0812XXXXXXXX'}, {'nama': 'Alica Ayu Fitriani', 'nim': 'I0320121', 'kontak': '0896XXXXXXXX'}]\n"
     ]
    }
   ],
   "source": [
    "# Mengakses informasi tentang \"nama\" dari semua aslab dari index 1 - 5\n",
    "\n",
    "list_aslab = [\n",
    "    {\"nama\": \"Berlian Safri Prakoso\", \"nim\": \"I0320017\", \"kontak\": \"0858XXXXXXXX\"},\n",
    "    {\"nama\": \"Halidya Siti Hanifah\", \"nim\": \"I0320044\", \"kontak\": \"0878XXXXXXXX\"},\n",
    "    {\"nama\": \"Nurki Putra Mahardika\", \"nim\": \"I0320076\", \"kontak\": \"0877XXXXXXXX\"},\n",
    "    {\"nama\": \"Aji Manarul Aziz\", \"nim\": \"I0320119\", \"kontak\": \"0812XXXXXXXX\"},\n",
    "    {\"nama\": \"Alica Ayu Fitriani\", \"nim\": \"I0320121\", \"kontak\": \"0896XXXXXXXX\"},\n",
    "    {\"nama\": \"Dendy Halim Kusuma\", \"nim\": \"I0320125\", \"kontak\": \"0822XXXXXXXX\"},\n",
    "]\n",
    "print(list_aslab[1:5])"
   ]
  },
  {
   "cell_type": "code",
   "execution_count": 3,
   "metadata": {},
   "outputs": [
    {
     "ename": "AttributeError",
     "evalue": "'list' object has no attribute 'update'",
     "output_type": "error",
     "traceback": [
      "\u001b[1;31m---------------------------------------------------------------------------\u001b[0m",
      "\u001b[1;31mAttributeError\u001b[0m                            Traceback (most recent call last)",
      "Cell \u001b[1;32mIn[3], line 19\u001b[0m\n\u001b[0;32m      3\u001b[0m list_aslab \u001b[39m=\u001b[39m [\n\u001b[0;32m      4\u001b[0m     {\u001b[39m\"\u001b[39m\u001b[39mnama\u001b[39m\u001b[39m\"\u001b[39m: \u001b[39m\"\u001b[39m\u001b[39mBerlian Safri Prakoso\u001b[39m\u001b[39m\"\u001b[39m, \u001b[39m\"\u001b[39m\u001b[39mnim\u001b[39m\u001b[39m\"\u001b[39m: \u001b[39m\"\u001b[39m\u001b[39mI0320017\u001b[39m\u001b[39m\"\u001b[39m, \u001b[39m\"\u001b[39m\u001b[39mkontak\u001b[39m\u001b[39m\"\u001b[39m: \u001b[39m\"\u001b[39m\u001b[39m0858XXXXXXXX\u001b[39m\u001b[39m\"\u001b[39m},\n\u001b[0;32m      5\u001b[0m     {\u001b[39m\"\u001b[39m\u001b[39mnama\u001b[39m\u001b[39m\"\u001b[39m: \u001b[39m\"\u001b[39m\u001b[39mHalidya Siti Hanifah\u001b[39m\u001b[39m\"\u001b[39m, \u001b[39m\"\u001b[39m\u001b[39mnim\u001b[39m\u001b[39m\"\u001b[39m: \u001b[39m\"\u001b[39m\u001b[39mI0320044\u001b[39m\u001b[39m\"\u001b[39m, \u001b[39m\"\u001b[39m\u001b[39mkontak\u001b[39m\u001b[39m\"\u001b[39m: \u001b[39m\"\u001b[39m\u001b[39m0878XXXXXXXX\u001b[39m\u001b[39m\"\u001b[39m},\n\u001b[1;32m   (...)\u001b[0m\n\u001b[0;32m      9\u001b[0m     {\u001b[39m\"\u001b[39m\u001b[39mnama\u001b[39m\u001b[39m\"\u001b[39m: \u001b[39m\"\u001b[39m\u001b[39mDendy Halim Kusuma\u001b[39m\u001b[39m\"\u001b[39m, \u001b[39m\"\u001b[39m\u001b[39mnim\u001b[39m\u001b[39m\"\u001b[39m: \u001b[39m\"\u001b[39m\u001b[39mI0320125\u001b[39m\u001b[39m\"\u001b[39m, \u001b[39m\"\u001b[39m\u001b[39mkontak\u001b[39m\u001b[39m\"\u001b[39m: \u001b[39m\"\u001b[39m\u001b[39m0822XXXXXXXX\u001b[39m\u001b[39m\"\u001b[39m},\n\u001b[0;32m     10\u001b[0m ]\n\u001b[0;32m     12\u001b[0m surel \u001b[39m=\u001b[39m [\u001b[39m\"\u001b[39m\u001b[39mberlian@student.uns.ac.id\u001b[39m\u001b[39m\"\u001b[39m,\n\u001b[0;32m     13\u001b[0m          \u001b[39m\"\u001b[39m\u001b[39mhalidya@student.uns.ac.id\u001b[39m\u001b[39m\"\u001b[39m,\n\u001b[0;32m     14\u001b[0m          \u001b[39m\"\u001b[39m\u001b[39mnurki@student.uns.ac.id\u001b[39m\u001b[39m\"\u001b[39m,\n\u001b[0;32m     15\u001b[0m          \u001b[39m\"\u001b[39m\u001b[39maji@student.uns.ac.id\u001b[39m\u001b[39m\"\u001b[39m,\n\u001b[0;32m     16\u001b[0m          \u001b[39m\"\u001b[39m\u001b[39malica@student.uns.ac.id\u001b[39m\u001b[39m\"\u001b[39m,\n\u001b[0;32m     17\u001b[0m          \u001b[39m\"\u001b[39m\u001b[39mdendy@student.uns.ac.id\u001b[39m\u001b[39m\"\u001b[39m]\n\u001b[1;32m---> 19\u001b[0m list_aslab\u001b[39m.\u001b[39;49mupdate({\u001b[39m\"\u001b[39m\u001b[39mberlian@student.uns.ac.id\u001b[39m\u001b[39m\"\u001b[39m,\n\u001b[0;32m     20\u001b[0m          \u001b[39m\"\u001b[39m\u001b[39mhalidya@student.uns.ac.id\u001b[39m\u001b[39m\"\u001b[39m,\n\u001b[0;32m     21\u001b[0m          \u001b[39m\"\u001b[39m\u001b[39mnurki@student.uns.ac.id\u001b[39m\u001b[39m\"\u001b[39m,\n\u001b[0;32m     22\u001b[0m          \u001b[39m\"\u001b[39m\u001b[39maji@student.uns.ac.id\u001b[39m\u001b[39m\"\u001b[39m,\n\u001b[0;32m     23\u001b[0m          \u001b[39m\"\u001b[39m\u001b[39malica@student.uns.ac.id\u001b[39m\u001b[39m\"\u001b[39m,\n\u001b[0;32m     24\u001b[0m          \u001b[39m\"\u001b[39m\u001b[39mdendy@student.uns.ac.id\u001b[39m\u001b[39m\"\u001b[39m})\n\u001b[0;32m     26\u001b[0m \u001b[39mprint\u001b[39m(list_aslab)\n",
      "\u001b[1;31mAttributeError\u001b[0m: 'list' object has no attribute 'update'"
     ]
    }
   ],
   "source": [
    "#B: Menambahkan informasi\n",
    "\n",
    "list_aslab = [\n",
    "    {\"nama\": \"Berlian Safri Prakoso\", \"nim\": \"I0320017\", \"kontak\": \"0858XXXXXXXX\"},\n",
    "    {\"nama\": \"Halidya Siti Hanifah\", \"nim\": \"I0320044\", \"kontak\": \"0878XXXXXXXX\"},\n",
    "    {\"nama\": \"Nurki Putra Mahardika\", \"nim\": \"I0320076\", \"kontak\": \"0877XXXXXXXX\"},\n",
    "    {\"nama\": \"Aji Manarul Aziz\", \"nim\": \"I0320119\", \"kontak\": \"0812XXXXXXXX\"},\n",
    "    {\"nama\": \"Alica Ayu Fitriani\", \"nim\": \"I0320121\", \"kontak\": \"0896XXXXXXXX\"},\n",
    "    {\"nama\": \"Dendy Halim Kusuma\", \"nim\": \"I0320125\", \"kontak\": \"0822XXXXXXXX\"},\n",
    "]\n",
    "\n",
    "surel = [\"berlian@student.uns.ac.id\",\n",
    "         \"halidya@student.uns.ac.id\",\n",
    "         \"nurki@student.uns.ac.id\",\n",
    "         \"aji@student.uns.ac.id\",\n",
    "         \"alica@student.uns.ac.id\",\n",
    "         \"dendy@student.uns.ac.id\"]\n",
    "\n",
    "list_aslab.update({\"berlian@student.uns.ac.id\",\n",
    "         \"halidya@student.uns.ac.id\",\n",
    "         \"nurki@student.uns.ac.id\",\n",
    "         \"aji@student.uns.ac.id\",\n",
    "         \"alica@student.uns.ac.id\",\n",
    "         \"dendy@student.uns.ac.id\"})\n",
    "\n",
    "print(list_aslab)"
   ]
  },
  {
   "cell_type": "code",
   "execution_count": 2,
   "metadata": {},
   "outputs": [
    {
     "ename": "TypeError",
     "evalue": "list indices must be integers or slices, not str",
     "output_type": "error",
     "traceback": [
      "\u001b[1;31m---------------------------------------------------------------------------\u001b[0m",
      "\u001b[1;31mTypeError\u001b[0m                                 Traceback (most recent call last)",
      "Cell \u001b[1;32mIn[2], line 10\u001b[0m\n\u001b[0;32m      1\u001b[0m \u001b[39m#C: Hapus nilai kunci 'kontak'\u001b[39;00m\n\u001b[0;32m      2\u001b[0m list_aslab \u001b[39m=\u001b[39m [\n\u001b[0;32m      3\u001b[0m     {\u001b[39m\"\u001b[39m\u001b[39mnama\u001b[39m\u001b[39m\"\u001b[39m: \u001b[39m\"\u001b[39m\u001b[39mBerlian Safri Prakoso\u001b[39m\u001b[39m\"\u001b[39m, \u001b[39m\"\u001b[39m\u001b[39mnim\u001b[39m\u001b[39m\"\u001b[39m: \u001b[39m\"\u001b[39m\u001b[39mI0320017\u001b[39m\u001b[39m\"\u001b[39m, \u001b[39m\"\u001b[39m\u001b[39mkontak\u001b[39m\u001b[39m\"\u001b[39m: \u001b[39m\"\u001b[39m\u001b[39m0858XXXXXXXX\u001b[39m\u001b[39m\"\u001b[39m},\n\u001b[0;32m      4\u001b[0m     {\u001b[39m\"\u001b[39m\u001b[39mnama\u001b[39m\u001b[39m\"\u001b[39m: \u001b[39m\"\u001b[39m\u001b[39mHalidya Siti Hanifah\u001b[39m\u001b[39m\"\u001b[39m, \u001b[39m\"\u001b[39m\u001b[39mnim\u001b[39m\u001b[39m\"\u001b[39m: \u001b[39m\"\u001b[39m\u001b[39mI0320044\u001b[39m\u001b[39m\"\u001b[39m, \u001b[39m\"\u001b[39m\u001b[39mkontak\u001b[39m\u001b[39m\"\u001b[39m: \u001b[39m\"\u001b[39m\u001b[39m0878XXXXXXXX\u001b[39m\u001b[39m\"\u001b[39m},\n\u001b[1;32m   (...)\u001b[0m\n\u001b[0;32m      8\u001b[0m     {\u001b[39m\"\u001b[39m\u001b[39mnama\u001b[39m\u001b[39m\"\u001b[39m: \u001b[39m\"\u001b[39m\u001b[39mDendy Halim Kusuma\u001b[39m\u001b[39m\"\u001b[39m, \u001b[39m\"\u001b[39m\u001b[39mnim\u001b[39m\u001b[39m\"\u001b[39m: \u001b[39m\"\u001b[39m\u001b[39mI0320125\u001b[39m\u001b[39m\"\u001b[39m, \u001b[39m\"\u001b[39m\u001b[39mkontak\u001b[39m\u001b[39m\"\u001b[39m: \u001b[39m\"\u001b[39m\u001b[39m0822XXXXXXXX\u001b[39m\u001b[39m\"\u001b[39m},\n\u001b[0;32m      9\u001b[0m ]\n\u001b[1;32m---> 10\u001b[0m \u001b[39mdel\u001b[39;00m list_aslab[\u001b[39m'\u001b[39;49m\u001b[39mkontak\u001b[39;49m\u001b[39m'\u001b[39;49m]\n\u001b[0;32m     11\u001b[0m \u001b[39mprint\u001b[39m(list_aslab)\n",
      "\u001b[1;31mTypeError\u001b[0m: list indices must be integers or slices, not str"
     ]
    }
   ],
   "source": [
    "#C: Hapus nilai kunci 'kontak'\n",
    "list_aslab = [\n",
    "    {\"nama\": \"Berlian Safri Prakoso\", \"nim\": \"I0320017\", \"kontak\": \"0858XXXXXXXX\"},\n",
    "    {\"nama\": \"Halidya Siti Hanifah\", \"nim\": \"I0320044\", \"kontak\": \"0878XXXXXXXX\"},\n",
    "    {\"nama\": \"Nurki Putra Mahardika\", \"nim\": \"I0320076\", \"kontak\": \"0877XXXXXXXX\"},\n",
    "    {\"nama\": \"Aji Manarul Aziz\", \"nim\": \"I0320119\", \"kontak\": \"0812XXXXXXXX\"},\n",
    "    {\"nama\": \"Alica Ayu Fitriani\", \"nim\": \"I0320121\", \"kontak\": \"0896XXXXXXXX\"},\n",
    "    {\"nama\": \"Dendy Halim Kusuma\", \"nim\": \"I0320125\", \"kontak\": \"0822XXXXXXXX\"},\n",
    "]\n",
    "del list_aslab['kontak']\n",
    "print(list_aslab)"
   ]
  }
 ],
 "metadata": {
  "kernelspec": {
   "display_name": "Python 3",
   "language": "python",
   "name": "python3"
  },
  "language_info": {
   "codemirror_mode": {
    "name": "ipython",
    "version": 3
   },
   "file_extension": ".py",
   "mimetype": "text/x-python",
   "name": "python",
   "nbconvert_exporter": "python",
   "pygments_lexer": "ipython3",
   "version": "3.11.2"
  },
  "orig_nbformat": 4,
  "vscode": {
   "interpreter": {
    "hash": "5addf786bcd861d1ce5006f23111f8cbb206731e5b61b0a5632ba9e0252558a8"
   }
  }
 },
 "nbformat": 4,
 "nbformat_minor": 2
}
